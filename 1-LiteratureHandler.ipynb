{
 "cells": [
  {
   "cell_type": "markdown",
   "metadata": {
    "id": "8um2yEHWUf2x"
   },
   "source": [
    "# Literature Processer\n",
    "* Jacob Yousif"
   ]
  },
  {
   "cell_type": "markdown",
   "metadata": {},
   "source": [
    "## Importing the libraries"
   ]
  },
  {
   "cell_type": "code",
   "execution_count": 3,
   "metadata": {},
   "outputs": [],
   "source": [
    "import warnings\n",
    "warnings.filterwarnings('ignore')"
   ]
  },
  {
   "cell_type": "code",
   "execution_count": 4,
   "metadata": {},
   "outputs": [],
   "source": [
    "%%capture\n",
    "!pip install chardet"
   ]
  },
  {
   "cell_type": "code",
   "execution_count": 5,
   "metadata": {},
   "outputs": [],
   "source": [
    "import os\n",
    "import re\n",
    "import chardet\n",
    "import pandas as pd\n",
    "import json\n",
    "from sklearn.preprocessing import LabelEncoder"
   ]
  },
  {
   "cell_type": "markdown",
   "metadata": {},
   "source": [
    "## The path for the source of the literature"
   ]
  },
  {
   "cell_type": "code",
   "execution_count": 6,
   "metadata": {},
   "outputs": [],
   "source": [
    "directory = 'Literature/'"
   ]
  },
  {
   "cell_type": "markdown",
   "metadata": {},
   "source": [
    "## Predefined functions"
   ]
  },
  {
   "cell_type": "code",
   "execution_count": 7,
   "metadata": {},
   "outputs": [],
   "source": [
    "def extract_file(file_path):\n",
    "    \n",
    "    with open(file_path, 'r') as file:\n",
    "        data = json.load(file)\n",
    "    return data"
   ]
  },
  {
   "cell_type": "code",
   "execution_count": 8,
   "metadata": {},
   "outputs": [],
   "source": [
    "def count_words(text):\n",
    "    if pd.isna(text):\n",
    "        return 0\n",
    "    return len(text.split())"
   ]
  },
  {
   "cell_type": "code",
   "execution_count": 9,
   "metadata": {},
   "outputs": [],
   "source": [
    "def remove_whitespace(text):\n",
    "    return  \" \".join(text.split())"
   ]
  },
  {
   "cell_type": "code",
   "execution_count": 10,
   "metadata": {},
   "outputs": [],
   "source": [
    "def filename_to_title(filename):\n",
    "    name_without_ext = filename.replace(\".txt\", \"\")\n",
    "    title = \" \".join(\n",
    "        [\n",
    "            word if i == 0 else word.capitalize()\n",
    "            for i, word in enumerate(re.findall(\"[A-Z][^A-Z]*\", name_without_ext))\n",
    "        ]\n",
    "    )\n",
    "    return title"
   ]
  },
  {
   "cell_type": "code",
   "execution_count": 11,
   "metadata": {},
   "outputs": [],
   "source": [
    "def read_text_file(file_path):\n",
    "    with open(file_path, 'rb') as file:\n",
    "        raw_data = file.read()\n",
    "    result = chardet.detect(raw_data)\n",
    "    encoding = result['encoding']\n",
    "    with open(file_path, 'r', encoding=encoding) as file:\n",
    "        text = file.read()\n",
    "    \n",
    "    return text"
   ]
  },
  {
   "cell_type": "markdown",
   "metadata": {},
   "source": [
    "## The processing"
   ]
  },
  {
   "cell_type": "code",
   "execution_count": 12,
   "metadata": {},
   "outputs": [
    {
     "name": "stdout",
     "output_type": "stream",
     "text": [
      "{'AChristmasCarolInProse.txt': 'Charles Dickens', \"AConnecticutYankeeinKingArthur'sCourt.txt\": 'Mark Twain', 'AdamBede.txt': 'George Eliot', 'AdventuresOfHuckleberryFinn.txt': 'Mark Twain', 'AJournalOfImpressionsInBelgium.txt': 'May Sinclair', 'ALittleCountryGirl.txt': 'Susan Coolidge', 'AllCatsAreGray.txt': 'Andre Norton', 'AnneOfAvonlea.txt': 'L. M. Montgomery', 'AnneOfGreenGables.txt': 'L. M. Montgomery', 'AnneOfTheIsland.txt': 'L. M. Montgomery', 'ArgonautStories.txt': 'Jack London', 'ARoundDozen.txt': 'Susan Coolidge', 'BleakHouse.txt': 'Charles Dickens', 'Clover.txt': 'Susan Coolidge', 'Curious-IfTrue.txt': 'Elizabeth Gaskell', 'DanielDeronda.txt': 'George Eliot', 'DavidCopperfield.txt': 'Charles Dickens', 'DefenseMech.txt': 'Ray Bradbury', 'EightCousins.txt': 'Louisa May Alcott', 'EmilyOfNewMoon.txt': 'L. M. Montgomery', 'Emma.txt': 'Jane Austen', 'EthanFrome.txt': 'Edith Wharton', 'FelixHolt-TheRadical.txt': 'George Eliot', 'FlowerFables.txt': 'Louisa May Alcott', 'FuturiaFantasia-Fall.txt': 'Ray Bradbury', 'FuturiaFantasia-Spring.txt': 'Ray Bradbury', 'GreatExpectations.txt': 'Charles Dickens', 'HalfaLife-TimeAgo.txt': 'Elizabeth Gaskell', 'HardTimes.txt': 'Charles Dickens', 'HeartOfDarkness.txt': 'Joseph Conrad', 'InTheHighValley.txt': 'Susan Coolidge', 'JackAndJill.txt': 'Louisa May Alcott', 'KeyOutOfTime.txt': 'Andre Norton', \"Let'sGetTogether.txt\": 'Isaac Asimov', 'LifeAndDeathOfHarriettFrean.txt': 'May Sinclair', 'LifeOnTheMississippi.txt': 'Mark Twain', 'LittleWomen.txt': 'Louisa May Alcott', 'LordJim.txt': 'Joseph Conrad', 'MansfieldPark.txt': 'Jane Austen', 'MartinEden.txt': 'Jack London', 'MaryBarton.txt': 'Elizabeth Gaskell', 'Ninety-Three.txt': 'Victor Hugo', 'NorthangerAbbey.txt': 'Jane Austen', 'Notre-DamedeParis.txt': 'Victor Hugo', 'OliverTwist.txt': 'Charles Dickens', 'Persuasion.txt': 'Jane Austen', 'PillarOfFire.txt': 'Ray Bradbury', 'PlagueShip.txt': 'Andre Norton', 'PoirotInvestigates.txt': 'Agatha Christie', 'PrideAndPrejudice.txt': 'Jane Austen', 'RainbowValley.txt': 'L. M. Montgomery', 'RillaOfIngleside.txt': 'L. M. Montgomery', 'RoseInBloom.txt': 'Louisa May Alcott', 'RoughingIt.txt': 'Mark Twain', 'Ruth.txt': 'Elizabeth Gaskell', 'SenseAndSensibility.txt': 'Jane Austen', 'SilasMarner.txt': 'George Eliot', 'StarBorn.txt': 'Andre Norton', 'Summer.txt': 'Edith Wharton', 'TalesOfMenandGhosts.txt': 'Edith Wharton', 'TheAncientLaw.txt': 'Ellen Glasgow', 'TheBattleGround.txt': 'Ellen Glasgow', 'TheBuilders.txt': 'Ellen Glasgow', 'TheCombinedMaze.txt': 'May Sinclair', 'TheCreaturesThatTimeForgot.txt': 'Ray Bradbury', 'TheCustomOfTheCountry.txt': 'Edith Wharton', 'TheGeneticEffectsOfRadiation.txt': 'Isaac Asimov', 'TheGreyWomanAndOtherTales.txt': 'Elizabeth Gaskell', 'TheHistoryOfACrime.txt': 'Victor Hugo', 'TheHouseOfMirth.txt': 'Edith Wharton', 'TheInnocentsAbroad.txt': 'Mark Twain', 'TheIronHeel.txt': 'Jack London', 'TheLiftedVeil.txt': 'George Eliot', 'TheManInTheBrownSuit.txt': 'Agatha Christie', 'TheManWhoLaughs-ARomanceOfEnglishHistory.txt': 'Victor Hugo', 'TheMillOnTheFloss.txt': 'George Eliot', 'TheMurderOnTheLinks.txt': 'Agatha Christie', 'TheMysteriousAffairAtStyles.txt': 'Agatha Christie', 'TheMysteryOfTheBlueTrain.txt': 'Agatha Christie', 'ThePeopleOfTheAbyss.txt': 'Jack London', 'ThePeopleOfTheCrater.txt': 'Andre Norton', 'ThePrinceAndThePauper.txt': 'Mark Twain', 'TheReef.txt': 'Edith Wharton', 'TheRomanceOfAPlainMan.txt': 'Ellen Glasgow', 'TheSea-Wolf.txt': 'Jack London', 'TheSecretAdversary.txt': 'Agatha Christie', 'TheSecretAgent-ASimpleTale.txt': 'Joseph Conrad', 'TheSecretSharer.txt': 'Joseph Conrad', 'TheShapeOfThings.txt': 'Ray Bradbury', 'TheThreeSisters.txt': 'May Sinclair', 'TheTimeTraders.txt': 'Andre Norton', 'TheTreeOfHeaven.txt': 'May Sinclair', 'TheVoiceOfThePeople.txt': 'Ellen Glasgow', 'TheWomenWhoMakeOurNovels.txt': 'Ellen Glasgow', 'ToilersOfTheSea.txt': 'Victor Hugo', 'UncannyStories.txt': 'May Sinclair', 'UnderTheLilacs.txt': 'Louisa May Alcott', 'UnderWesternEyes.txt': 'Joseph Conrad', 'Victory-AnIslandTale.txt': 'Joseph Conrad', 'WhatKatyDidatSchool.txt': 'Susan Coolidge', 'WhatKatyDidNext.txt': 'Susan Coolidge', 'WhiteFang.txt': 'Jack London', 'WilliamShakespeare.txt': 'Victor Hugo', 'WivesAndDaughters.txt': 'Elizabeth Gaskell', 'WorldsWithinWorlds-TheStoryOfNuclearEnergy-Vol1.txt': 'Isaac Asimov', 'WorldsWithinWorlds-TheStoryOfNuclearEnergy-Vol2.txt': 'Isaac Asimov', 'WorldsWithinWorlds-TheStoryOfNuclearEnergy-Vol3.txt': 'Isaac Asimov', 'Youth.txt': 'Isaac Asimov'}\n"
     ]
    }
   ],
   "source": [
    "books_info = extract_file('Datasets/books.json')\n",
    "\n",
    "print(books_info)"
   ]
  },
  {
   "cell_type": "code",
   "execution_count": 13,
   "metadata": {},
   "outputs": [],
   "source": [
    "files = [f for f in os.listdir(directory) if os.path.isfile(os.path.join(directory, f))]"
   ]
  },
  {
   "cell_type": "code",
   "execution_count": 14,
   "metadata": {},
   "outputs": [],
   "source": [
    "files.sort()"
   ]
  },
  {
   "cell_type": "code",
   "execution_count": 15,
   "metadata": {},
   "outputs": [],
   "source": [
    "df = pd.DataFrame()"
   ]
  },
  {
   "cell_type": "code",
   "execution_count": 16,
   "metadata": {},
   "outputs": [],
   "source": [
    "df['Book'] = [filename_to_title(book) for book in files]"
   ]
  },
  {
   "cell_type": "code",
   "execution_count": 17,
   "metadata": {},
   "outputs": [],
   "source": [
    "books = [read_text_file(directory + item) for item in files]"
   ]
  },
  {
   "cell_type": "code",
   "execution_count": 18,
   "metadata": {},
   "outputs": [],
   "source": [
    "df['Text'] = books"
   ]
  },
  {
   "cell_type": "code",
   "execution_count": 19,
   "metadata": {},
   "outputs": [],
   "source": [
    "books_info = extract_file('Datasets/books.json')"
   ]
  },
  {
   "cell_type": "code",
   "execution_count": 20,
   "metadata": {},
   "outputs": [],
   "source": [
    "df['Author'] = [books_info[x] for x in files]"
   ]
  },
  {
   "cell_type": "code",
   "execution_count": 21,
   "metadata": {},
   "outputs": [],
   "source": [
    "df['Text'] = df['Text'].apply(remove_whitespace)"
   ]
  },
  {
   "cell_type": "code",
   "execution_count": 22,
   "metadata": {},
   "outputs": [],
   "source": [
    "df['Size'] = df['Text'].apply(count_words)"
   ]
  },
  {
   "cell_type": "code",
   "execution_count": 23,
   "metadata": {},
   "outputs": [
    {
     "name": "stdout",
     "output_type": "stream",
     "text": [
      "Sum of all words in all books: 10316742 words.\n"
     ]
    }
   ],
   "source": [
    "_sum = df['Size'].sum()\n",
    "\n",
    "print(f\"Sum of all words in all books: {_sum} words.\")"
   ]
  },
  {
   "cell_type": "code",
   "execution_count": 24,
   "metadata": {},
   "outputs": [],
   "source": [
    "label_encoder = LabelEncoder()\n",
    "df['AuthorCode'] = label_encoder.fit_transform(df['Author'])"
   ]
  },
  {
   "cell_type": "code",
   "execution_count": 25,
   "metadata": {},
   "outputs": [
    {
     "name": "stdout",
     "output_type": "stream",
     "text": [
      "Unique Authors: ['Charles Dickens' 'Mark Twain' 'May Sinclair' 'Susan Coolidge'\n",
      " 'George Eliot' 'Andre Norton' 'L. M. Montgomery' 'Jack London'\n",
      " 'Elizabeth Gaskell' 'Ray Bradbury' 'Louisa May Alcott' 'Jane Austen'\n",
      " 'Edith Wharton' 'Joseph Conrad' 'Isaac Asimov' 'Victor Hugo'\n",
      " 'Agatha Christie' 'Ellen Glasgow']\n",
      "\n",
      "Number of unique classes: 18\n"
     ]
    }
   ],
   "source": [
    "unique_classes = df['Author'].unique()\n",
    "num_classes = len(unique_classes)\n",
    "\n",
    "print(f\"Unique Authors: {unique_classes}\\n\")\n",
    "print(f\"Number of unique classes: {num_classes}\")"
   ]
  },
  {
   "cell_type": "code",
   "execution_count": 26,
   "metadata": {},
   "outputs": [],
   "source": [
    "author_dict = df.set_index('Author')['AuthorCode'].to_dict()"
   ]
  },
  {
   "cell_type": "code",
   "execution_count": 27,
   "metadata": {},
   "outputs": [],
   "source": [
    "with open('Datasets/author_codes.json', 'w') as json_file:\n",
    "    json.dump(author_dict, json_file)"
   ]
  },
  {
   "cell_type": "code",
   "execution_count": 28,
   "metadata": {},
   "outputs": [],
   "source": [
    "author_dict = dict(sorted(author_dict.items(), key=lambda item: item[1]))"
   ]
  },
  {
   "cell_type": "code",
   "execution_count": 29,
   "metadata": {},
   "outputs": [
    {
     "data": {
      "text/plain": [
       "{'Agatha Christie': 0,\n",
       " 'Andre Norton': 1,\n",
       " 'Charles Dickens': 2,\n",
       " 'Edith Wharton': 3,\n",
       " 'Elizabeth Gaskell': 4,\n",
       " 'Ellen Glasgow': 5,\n",
       " 'George Eliot': 6,\n",
       " 'Isaac Asimov': 7,\n",
       " 'Jack London': 8,\n",
       " 'Jane Austen': 9,\n",
       " 'Joseph Conrad': 10,\n",
       " 'L. M. Montgomery': 11,\n",
       " 'Louisa May Alcott': 12,\n",
       " 'Mark Twain': 13,\n",
       " 'May Sinclair': 14,\n",
       " 'Ray Bradbury': 15,\n",
       " 'Susan Coolidge': 16,\n",
       " 'Victor Hugo': 17}"
      ]
     },
     "execution_count": 29,
     "metadata": {},
     "output_type": "execute_result"
    }
   ],
   "source": [
    "author_dict"
   ]
  },
  {
   "cell_type": "code",
   "execution_count": 30,
   "metadata": {},
   "outputs": [
    {
     "name": "stdout",
     "output_type": "stream",
     "text": [
      "DataFrame has NaN values: False\n"
     ]
    }
   ],
   "source": [
    "has_nan = df.isna().any().any()\n",
    "print(f\"DataFrame has NaN values: {has_nan}\")"
   ]
  },
  {
   "cell_type": "code",
   "execution_count": 31,
   "metadata": {},
   "outputs": [
    {
     "data": {
      "text/plain": [
       "0                             A Christmas Carol In Prose\n",
       "1             A Connecticut Yankeein King Arthur's Court\n",
       "2                    A Journal Of Impressions In Belgium\n",
       "3                                  A Little Country Girl\n",
       "4                                          A Round Dozen\n",
       "                             ...                        \n",
       "103                                  Wives And Daughters\n",
       "104    Worlds Within Worlds- The Story Of Nuclear Ene...\n",
       "105    Worlds Within Worlds- The Story Of Nuclear Ene...\n",
       "106    Worlds Within Worlds- The Story Of Nuclear Ene...\n",
       "107                                                Youth\n",
       "Name: Book, Length: 108, dtype: object"
      ]
     },
     "execution_count": 31,
     "metadata": {},
     "output_type": "execute_result"
    }
   ],
   "source": [
    "df['Book']"
   ]
  },
  {
   "cell_type": "code",
   "execution_count": 32,
   "metadata": {},
   "outputs": [
    {
     "data": {
      "text/html": [
       "<div>\n",
       "<style scoped>\n",
       "    .dataframe tbody tr th:only-of-type {\n",
       "        vertical-align: middle;\n",
       "    }\n",
       "\n",
       "    .dataframe tbody tr th {\n",
       "        vertical-align: top;\n",
       "    }\n",
       "\n",
       "    .dataframe thead th {\n",
       "        text-align: right;\n",
       "    }\n",
       "</style>\n",
       "<table border=\"1\" class=\"dataframe\">\n",
       "  <thead>\n",
       "    <tr style=\"text-align: right;\">\n",
       "      <th></th>\n",
       "      <th>Book</th>\n",
       "      <th>Text</th>\n",
       "      <th>Author</th>\n",
       "      <th>Size</th>\n",
       "      <th>AuthorCode</th>\n",
       "    </tr>\n",
       "  </thead>\n",
       "  <tbody>\n",
       "    <tr>\n",
       "      <th>0</th>\n",
       "      <td>A Christmas Carol In Prose</td>\n",
       "      <td>STAVE I: MARLEY'S GHOST MARLEY was dead: to be...</td>\n",
       "      <td>Charles Dickens</td>\n",
       "      <td>28435</td>\n",
       "      <td>2</td>\n",
       "    </tr>\n",
       "    <tr>\n",
       "      <th>1</th>\n",
       "      <td>A Connecticut Yankeein King Arthur's Court</td>\n",
       "      <td>A WORD OF EXPLANATION It was in Warwick Castle...</td>\n",
       "      <td>Mark Twain</td>\n",
       "      <td>117491</td>\n",
       "      <td>13</td>\n",
       "    </tr>\n",
       "    <tr>\n",
       "      <th>2</th>\n",
       "      <td>A Journal Of Impressions In Belgium</td>\n",
       "      <td>This is a \"Journal of Impressions,\" and it is ...</td>\n",
       "      <td>May Sinclair</td>\n",
       "      <td>68153</td>\n",
       "      <td>14</td>\n",
       "    </tr>\n",
       "    <tr>\n",
       "      <th>3</th>\n",
       "      <td>A Little Country Girl</td>\n",
       "      <td>CHAPTER I. ON THE \"EOLUS.\" IT was on one of th...</td>\n",
       "      <td>Susan Coolidge</td>\n",
       "      <td>49179</td>\n",
       "      <td>16</td>\n",
       "    </tr>\n",
       "    <tr>\n",
       "      <th>4</th>\n",
       "      <td>A Round Dozen</td>\n",
       "      <td>THE LITTLE WHITE DOOR. I SUPPOSE that most boy...</td>\n",
       "      <td>Susan Coolidge</td>\n",
       "      <td>47504</td>\n",
       "      <td>16</td>\n",
       "    </tr>\n",
       "    <tr>\n",
       "      <th>...</th>\n",
       "      <td>...</td>\n",
       "      <td>...</td>\n",
       "      <td>...</td>\n",
       "      <td>...</td>\n",
       "      <td>...</td>\n",
       "    </tr>\n",
       "    <tr>\n",
       "      <th>103</th>\n",
       "      <td>Wives And Daughters</td>\n",
       "      <td>To begin with the old rigmarole of childhood. ...</td>\n",
       "      <td>Elizabeth Gaskell</td>\n",
       "      <td>269696</td>\n",
       "      <td>4</td>\n",
       "    </tr>\n",
       "    <tr>\n",
       "      <th>104</th>\n",
       "      <td>Worlds Within Worlds- The Story Of Nuclear Ene...</td>\n",
       "      <td>INTRODUCTION In a way, nuclear energy has been...</td>\n",
       "      <td>Isaac Asimov</td>\n",
       "      <td>11830</td>\n",
       "      <td>7</td>\n",
       "    </tr>\n",
       "    <tr>\n",
       "      <th>105</th>\n",
       "      <td>Worlds Within Worlds- The Story Of Nuclear Ene...</td>\n",
       "      <td>MASS AND ENERGY In 1900 it began to dawn on ph...</td>\n",
       "      <td>Isaac Asimov</td>\n",
       "      <td>10725</td>\n",
       "      <td>7</td>\n",
       "    </tr>\n",
       "    <tr>\n",
       "      <th>106</th>\n",
       "      <td>Worlds Within Worlds- The Story Of Nuclear Ene...</td>\n",
       "      <td>NUCLEAR FISSION New Elements In 1934 Enrico Fe...</td>\n",
       "      <td>Isaac Asimov</td>\n",
       "      <td>11129</td>\n",
       "      <td>7</td>\n",
       "    </tr>\n",
       "    <tr>\n",
       "      <th>107</th>\n",
       "      <td>Youth</td>\n",
       "      <td>Red and Slim found the two strange little anim...</td>\n",
       "      <td>Isaac Asimov</td>\n",
       "      <td>10063</td>\n",
       "      <td>7</td>\n",
       "    </tr>\n",
       "  </tbody>\n",
       "</table>\n",
       "<p>108 rows × 5 columns</p>\n",
       "</div>"
      ],
      "text/plain": [
       "                                                  Book  \\\n",
       "0                           A Christmas Carol In Prose   \n",
       "1           A Connecticut Yankeein King Arthur's Court   \n",
       "2                  A Journal Of Impressions In Belgium   \n",
       "3                                A Little Country Girl   \n",
       "4                                        A Round Dozen   \n",
       "..                                                 ...   \n",
       "103                                Wives And Daughters   \n",
       "104  Worlds Within Worlds- The Story Of Nuclear Ene...   \n",
       "105  Worlds Within Worlds- The Story Of Nuclear Ene...   \n",
       "106  Worlds Within Worlds- The Story Of Nuclear Ene...   \n",
       "107                                              Youth   \n",
       "\n",
       "                                                  Text             Author  \\\n",
       "0    STAVE I: MARLEY'S GHOST MARLEY was dead: to be...    Charles Dickens   \n",
       "1    A WORD OF EXPLANATION It was in Warwick Castle...         Mark Twain   \n",
       "2    This is a \"Journal of Impressions,\" and it is ...       May Sinclair   \n",
       "3    CHAPTER I. ON THE \"EOLUS.\" IT was on one of th...     Susan Coolidge   \n",
       "4    THE LITTLE WHITE DOOR. I SUPPOSE that most boy...     Susan Coolidge   \n",
       "..                                                 ...                ...   \n",
       "103  To begin with the old rigmarole of childhood. ...  Elizabeth Gaskell   \n",
       "104  INTRODUCTION In a way, nuclear energy has been...       Isaac Asimov   \n",
       "105  MASS AND ENERGY In 1900 it began to dawn on ph...       Isaac Asimov   \n",
       "106  NUCLEAR FISSION New Elements In 1934 Enrico Fe...       Isaac Asimov   \n",
       "107  Red and Slim found the two strange little anim...       Isaac Asimov   \n",
       "\n",
       "       Size  AuthorCode  \n",
       "0     28435           2  \n",
       "1    117491          13  \n",
       "2     68153          14  \n",
       "3     49179          16  \n",
       "4     47504          16  \n",
       "..      ...         ...  \n",
       "103  269696           4  \n",
       "104   11830           7  \n",
       "105   10725           7  \n",
       "106   11129           7  \n",
       "107   10063           7  \n",
       "\n",
       "[108 rows x 5 columns]"
      ]
     },
     "execution_count": 32,
     "metadata": {},
     "output_type": "execute_result"
    }
   ],
   "source": [
    "df"
   ]
  },
  {
   "cell_type": "code",
   "execution_count": 33,
   "metadata": {},
   "outputs": [],
   "source": [
    "csv_file_path = 'Datasets/Literature.csv'\n",
    "df.to_csv(csv_file_path, index=False)"
   ]
  }
 ],
 "metadata": {
  "colab": {
   "provenance": []
  },
  "kernelspec": {
   "display_name": "Python 3 (ipykernel)",
   "language": "python",
   "name": "python3"
  },
  "language_info": {
   "codemirror_mode": {
    "name": "ipython",
    "version": 3
   },
   "file_extension": ".py",
   "mimetype": "text/x-python",
   "name": "python",
   "nbconvert_exporter": "python",
   "pygments_lexer": "ipython3",
   "version": "3.11.7"
  }
 },
 "nbformat": 4,
 "nbformat_minor": 4
}
