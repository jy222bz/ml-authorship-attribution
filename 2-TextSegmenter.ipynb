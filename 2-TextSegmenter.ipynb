{
 "cells": [
  {
   "cell_type": "markdown",
   "metadata": {
    "id": "8um2yEHWUf2x"
   },
   "source": [
    "# Text Segmmenter\n",
    "\n",
    "*   Jacob Yousif\n"
   ]
  },
  {
   "cell_type": "markdown",
   "metadata": {
    "id": "MdnfmL1xWWjY"
   },
   "source": [
    "## Importing the libraries"
   ]
  },
  {
   "cell_type": "code",
   "execution_count": 1,
   "metadata": {},
   "outputs": [],
   "source": [
    "import warnings\n",
    "warnings.filterwarnings('ignore')"
   ]
  },
  {
   "cell_type": "code",
   "execution_count": 2,
   "metadata": {},
   "outputs": [],
   "source": [
    "import pandas as pd\n",
    "from nltk.tokenize import sent_tokenize"
   ]
  },
  {
   "cell_type": "markdown",
   "metadata": {},
   "source": [
    "## Loading the data"
   ]
  },
  {
   "cell_type": "code",
   "execution_count": 3,
   "metadata": {},
   "outputs": [],
   "source": [
    "file_path = 'Datasets/Literature.csv'\n",
    "df = pd.read_csv(file_path)"
   ]
  },
  {
   "cell_type": "code",
   "execution_count": 4,
   "metadata": {},
   "outputs": [
    {
     "name": "stdout",
     "output_type": "stream",
     "text": [
      "DataFrame has NaN values: False\n"
     ]
    }
   ],
   "source": [
    "has_nan = df.isna().any().any()\n",
    "print(f\"DataFrame has NaN values: {has_nan}\")"
   ]
  },
  {
   "cell_type": "markdown",
   "metadata": {},
   "source": [
    "## Predefined functions"
   ]
  },
  {
   "cell_type": "code",
   "execution_count": 5,
   "metadata": {},
   "outputs": [],
   "source": [
    "def create_segments(sequence, segment_size=15, buffer=5):\n",
    "    sentences = sent_tokenize(sequence)\n",
    "    num_of_chunks = ((len(sentences) - segment_size) // buffer) + 1\n",
    "    segments = [\" \".join(sentences[i:i + segment_size]) for i in range(0, num_of_chunks * buffer, buffer)]\n",
    "    return segments"
   ]
  },
  {
   "cell_type": "markdown",
   "metadata": {},
   "source": [
    "## The segmentation"
   ]
  },
  {
   "cell_type": "code",
   "execution_count": 6,
   "metadata": {},
   "outputs": [],
   "source": [
    "columns = ['Book', 'Text', 'Author', 'AuthorCode']\n",
    "result = pd.DataFrame(columns=columns)"
   ]
  },
  {
   "cell_type": "code",
   "execution_count": 7,
   "metadata": {},
   "outputs": [],
   "source": [
    "for index, row in df.iterrows():\n",
    "    segments = create_segments(row['Text'])\n",
    "    for segment in segments:\n",
    "        _row = {\n",
    "        'Book': row['Book'],\n",
    "        'Text': segment,\n",
    "        'Author': row['Author'],\n",
    "        'AuthorCode': row['AuthorCode']\n",
    "        }\n",
    "        result.loc[len(result)] = _row"
   ]
  },
  {
   "cell_type": "code",
   "execution_count": 8,
   "metadata": {},
   "outputs": [
    {
     "data": {
      "text/html": [
       "<div>\n",
       "<style scoped>\n",
       "    .dataframe tbody tr th:only-of-type {\n",
       "        vertical-align: middle;\n",
       "    }\n",
       "\n",
       "    .dataframe tbody tr th {\n",
       "        vertical-align: top;\n",
       "    }\n",
       "\n",
       "    .dataframe thead th {\n",
       "        text-align: right;\n",
       "    }\n",
       "</style>\n",
       "<table border=\"1\" class=\"dataframe\">\n",
       "  <thead>\n",
       "    <tr style=\"text-align: right;\">\n",
       "      <th></th>\n",
       "      <th>Book</th>\n",
       "      <th>Text</th>\n",
       "      <th>Author</th>\n",
       "      <th>AuthorCode</th>\n",
       "    </tr>\n",
       "  </thead>\n",
       "  <tbody>\n",
       "    <tr>\n",
       "      <th>0</th>\n",
       "      <td>A Christmas Carol In Prose</td>\n",
       "      <td>STAVE I: MARLEY'S GHOST MARLEY was dead: to be...</td>\n",
       "      <td>Charles Dickens</td>\n",
       "      <td>2</td>\n",
       "    </tr>\n",
       "    <tr>\n",
       "      <th>1</th>\n",
       "      <td>A Christmas Carol In Prose</td>\n",
       "      <td>Mind! I don't mean to say that I know, of my o...</td>\n",
       "      <td>Charles Dickens</td>\n",
       "      <td>2</td>\n",
       "    </tr>\n",
       "    <tr>\n",
       "      <th>2</th>\n",
       "      <td>A Christmas Carol In Prose</td>\n",
       "      <td>Scrooge knew he was dead? Of course he did. Ho...</td>\n",
       "      <td>Charles Dickens</td>\n",
       "      <td>2</td>\n",
       "    </tr>\n",
       "    <tr>\n",
       "      <th>3</th>\n",
       "      <td>A Christmas Carol In Prose</td>\n",
       "      <td>And even Scrooge was not so dreadfully cut up ...</td>\n",
       "      <td>Charles Dickens</td>\n",
       "      <td>2</td>\n",
       "    </tr>\n",
       "    <tr>\n",
       "      <th>4</th>\n",
       "      <td>A Christmas Carol In Prose</td>\n",
       "      <td>Scrooge never painted out Old Marley's name. T...</td>\n",
       "      <td>Charles Dickens</td>\n",
       "      <td>2</td>\n",
       "    </tr>\n",
       "    <tr>\n",
       "      <th>...</th>\n",
       "      <td>...</td>\n",
       "      <td>...</td>\n",
       "      <td>...</td>\n",
       "      <td>...</td>\n",
       "    </tr>\n",
       "    <tr>\n",
       "      <th>106787</th>\n",
       "      <td>Youth</td>\n",
       "      <td>Imagine!\" The Astronomer said, \"Youth!\" XIII T...</td>\n",
       "      <td>Isaac Asimov</td>\n",
       "      <td>7</td>\n",
       "    </tr>\n",
       "    <tr>\n",
       "      <th>106788</th>\n",
       "      <td>Youth</td>\n",
       "      <td>All the remaining seventeen of the crew were d...</td>\n",
       "      <td>Isaac Asimov</td>\n",
       "      <td>7</td>\n",
       "    </tr>\n",
       "    <tr>\n",
       "      <th>106789</th>\n",
       "      <td>Youth</td>\n",
       "      <td>The Merchant then said, \"They've lined up to s...</td>\n",
       "      <td>Isaac Asimov</td>\n",
       "      <td>7</td>\n",
       "    </tr>\n",
       "    <tr>\n",
       "      <th>106790</th>\n",
       "      <td>Youth</td>\n",
       "      <td>\"Horrible-looking things, aren't they?\" \"Pleas...</td>\n",
       "      <td>Isaac Asimov</td>\n",
       "      <td>7</td>\n",
       "    </tr>\n",
       "    <tr>\n",
       "      <th>106791</th>\n",
       "      <td>Youth</td>\n",
       "      <td>\"That's a queer name for a monster. Makes me l...</td>\n",
       "      <td>Isaac Asimov</td>\n",
       "      <td>7</td>\n",
       "    </tr>\n",
       "  </tbody>\n",
       "</table>\n",
       "<p>106792 rows × 4 columns</p>\n",
       "</div>"
      ],
      "text/plain": [
       "                              Book  \\\n",
       "0       A Christmas Carol In Prose   \n",
       "1       A Christmas Carol In Prose   \n",
       "2       A Christmas Carol In Prose   \n",
       "3       A Christmas Carol In Prose   \n",
       "4       A Christmas Carol In Prose   \n",
       "...                            ...   \n",
       "106787                       Youth   \n",
       "106788                       Youth   \n",
       "106789                       Youth   \n",
       "106790                       Youth   \n",
       "106791                       Youth   \n",
       "\n",
       "                                                     Text           Author  \\\n",
       "0       STAVE I: MARLEY'S GHOST MARLEY was dead: to be...  Charles Dickens   \n",
       "1       Mind! I don't mean to say that I know, of my o...  Charles Dickens   \n",
       "2       Scrooge knew he was dead? Of course he did. Ho...  Charles Dickens   \n",
       "3       And even Scrooge was not so dreadfully cut up ...  Charles Dickens   \n",
       "4       Scrooge never painted out Old Marley's name. T...  Charles Dickens   \n",
       "...                                                   ...              ...   \n",
       "106787  Imagine!\" The Astronomer said, \"Youth!\" XIII T...     Isaac Asimov   \n",
       "106788  All the remaining seventeen of the crew were d...     Isaac Asimov   \n",
       "106789  The Merchant then said, \"They've lined up to s...     Isaac Asimov   \n",
       "106790  \"Horrible-looking things, aren't they?\" \"Pleas...     Isaac Asimov   \n",
       "106791  \"That's a queer name for a monster. Makes me l...     Isaac Asimov   \n",
       "\n",
       "        AuthorCode  \n",
       "0                2  \n",
       "1                2  \n",
       "2                2  \n",
       "3                2  \n",
       "4                2  \n",
       "...            ...  \n",
       "106787           7  \n",
       "106788           7  \n",
       "106789           7  \n",
       "106790           7  \n",
       "106791           7  \n",
       "\n",
       "[106792 rows x 4 columns]"
      ]
     },
     "execution_count": 8,
     "metadata": {},
     "output_type": "execute_result"
    }
   ],
   "source": [
    "result"
   ]
  },
  {
   "cell_type": "code",
   "execution_count": 9,
   "metadata": {},
   "outputs": [
    {
     "name": "stdout",
     "output_type": "stream",
     "text": [
      "The size of the dataset is: {106792}\n"
     ]
    }
   ],
   "source": [
    "print('The size of the dataset is:', {len(result)})"
   ]
  },
  {
   "cell_type": "code",
   "execution_count": 10,
   "metadata": {},
   "outputs": [
    {
     "name": "stdout",
     "output_type": "stream",
     "text": [
      "DataFrame has NaN values: False\n"
     ]
    }
   ],
   "source": [
    "has_nan = result.isna().any().any()\n",
    "print(f\"DataFrame has NaN values: {has_nan}\")"
   ]
  },
  {
   "cell_type": "code",
   "execution_count": 11,
   "metadata": {},
   "outputs": [],
   "source": [
    "csv_file_path = 'Datasets/SegmentedLiterature.csv'\n",
    "result.to_csv(csv_file_path, index=False)"
   ]
  }
 ],
 "metadata": {
  "colab": {
   "provenance": []
  },
  "kernelspec": {
   "display_name": "Python 3 (ipykernel)",
   "language": "python",
   "name": "python3"
  },
  "language_info": {
   "codemirror_mode": {
    "name": "ipython",
    "version": 3
   },
   "file_extension": ".py",
   "mimetype": "text/x-python",
   "name": "python",
   "nbconvert_exporter": "python",
   "pygments_lexer": "ipython3",
   "version": "3.11.7"
  }
 },
 "nbformat": 4,
 "nbformat_minor": 4
}
