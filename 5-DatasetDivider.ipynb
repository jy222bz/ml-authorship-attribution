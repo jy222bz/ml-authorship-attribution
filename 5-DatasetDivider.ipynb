{
 "cells": [
  {
   "cell_type": "markdown",
   "metadata": {
    "id": "8um2yEHWUf2x"
   },
   "source": [
    "# Dataset Divider\n",
    "\n",
    "*   Jacob Yousif"
   ]
  },
  {
   "cell_type": "markdown",
   "metadata": {
    "id": "MdnfmL1xWWjY"
   },
   "source": [
    "## Importing the libraries"
   ]
  },
  {
   "cell_type": "code",
   "execution_count": 1,
   "metadata": {},
   "outputs": [],
   "source": [
    "import warnings\n",
    "warnings.filterwarnings('ignore')"
   ]
  },
  {
   "cell_type": "code",
   "execution_count": 2,
   "metadata": {},
   "outputs": [],
   "source": [
    "%%capture\n",
    "!pip install imbalanced-learn"
   ]
  },
  {
   "cell_type": "code",
   "execution_count": 3,
   "metadata": {},
   "outputs": [],
   "source": [
    "%%capture\n",
    "import numpy as np\n",
    "import pandas as pd\n",
    "from sklearn.preprocessing import LabelEncoder, StandardScaler\n",
    "from sklearn.model_selection import train_test_split\n",
    "from imblearn.over_sampling import SMOTE"
   ]
  },
  {
   "cell_type": "markdown",
   "metadata": {},
   "source": [
    "## Loading the data"
   ]
  },
  {
   "cell_type": "code",
   "execution_count": 4,
   "metadata": {},
   "outputs": [],
   "source": [
    "file_path = 'Datasets/ProcessedSegmentedLiterature.csv'\n",
    "df = pd.read_csv(file_path)\n",
    "df= df.sort_values(by='AuthorCode', ascending=True)"
   ]
  },
  {
   "cell_type": "markdown",
   "metadata": {},
   "source": [
    "## The processing"
   ]
  },
  {
   "cell_type": "code",
   "execution_count": 5,
   "metadata": {},
   "outputs": [],
   "source": [
    "x_columns = [ \n",
    "    \"AverageWordLength\", \"AverageSentenceLength\", \"AverageSyllablePerWord\",\n",
    "    \"PunctuationCount\", \"FunctionalWordsCount\", \"TypeTokenRatio\", \"HonoreMeasureR\",\n",
    "    \"Hapax\", \"SichelesMeasureS\", \"Dihapax\", \"YulesCharacteristicK\", \"SimpsonsIndex\",\n",
    "    \"BrunetsMeasureW\", \"ShannonEntropy\", \"FleschReadingEase\", \"FleschKincaidGradeLevel\",\n",
    "    \"DaleChallReadability\", \"GunningFog\"\n",
    "]\n",
    "y_column = ['AuthorCode']"
   ]
  },
  {
   "cell_type": "code",
   "execution_count": 6,
   "metadata": {},
   "outputs": [],
   "source": [
    "X = df[x_columns].values"
   ]
  },
  {
   "cell_type": "code",
   "execution_count": 7,
   "metadata": {},
   "outputs": [],
   "source": [
    "y = df[y_column].values"
   ]
  },
  {
   "cell_type": "code",
   "execution_count": 8,
   "metadata": {},
   "outputs": [],
   "source": [
    "smote = SMOTE()\n",
    "X, y = smote.fit_resample(X, y)"
   ]
  },
  {
   "cell_type": "code",
   "execution_count": 9,
   "metadata": {},
   "outputs": [
    {
     "name": "stdout",
     "output_type": "stream",
     "text": [
      "Class Distribution:\n",
      "Class 0: 11327\n",
      "Class 1: 11327\n",
      "Class 2: 11327\n",
      "Class 3: 11327\n",
      "Class 4: 11327\n",
      "Class 5: 11327\n",
      "Class 6: 11327\n",
      "Class 7: 11327\n",
      "Class 8: 11327\n",
      "Class 9: 11327\n",
      "Class 10: 11327\n",
      "Class 11: 11327\n",
      "Class 12: 11327\n",
      "Class 13: 11327\n",
      "Class 14: 11327\n",
      "Class 15: 11327\n",
      "Class 16: 11327\n",
      "Class 17: 11327\n"
     ]
    }
   ],
   "source": [
    "from collections import Counter\n",
    "class_distribution = Counter(y)\n",
    "print(\"Class Distribution:\")\n",
    "for cls, count in class_distribution.items():\n",
    "    print(f\"Class {cls}: {count}\")"
   ]
  },
  {
   "cell_type": "code",
   "execution_count": 10,
   "metadata": {},
   "outputs": [
    {
     "name": "stdout",
     "output_type": "stream",
     "text": [
      "The size of the dataset is: 203886\n"
     ]
    }
   ],
   "source": [
    "print('The size of the dataset is:', len(X))"
   ]
  },
  {
   "cell_type": "code",
   "execution_count": 11,
   "metadata": {},
   "outputs": [],
   "source": [
    "X_train, X_temp, y_train, y_temp = train_test_split(X, y, test_size=0.3, stratify=y, random_state=42)  \n",
    "X_val, X_test, y_val, y_test = train_test_split(X_temp, y_temp, test_size=0.5, stratify=y_temp, random_state=42)"
   ]
  },
  {
   "cell_type": "code",
   "execution_count": 12,
   "metadata": {},
   "outputs": [],
   "source": [
    "scaler = StandardScaler()\n",
    "X_train = scaler.fit_transform(X_train)\n",
    "X_val = scaler.transform(X_val)\n",
    "X_test = scaler.transform(X_test)"
   ]
  },
  {
   "cell_type": "code",
   "execution_count": 13,
   "metadata": {},
   "outputs": [
    {
     "name": "stdout",
     "output_type": "stream",
     "text": [
      "The training set (Descriptive Features) size: 142720\n"
     ]
    }
   ],
   "source": [
    "print('The training set (Descriptive Features) size:', len(X_train))"
   ]
  },
  {
   "cell_type": "code",
   "execution_count": 14,
   "metadata": {},
   "outputs": [
    {
     "name": "stdout",
     "output_type": "stream",
     "text": [
      "The training set (Target Feature) size: 142720\n"
     ]
    }
   ],
   "source": [
    "print('The training set (Target Feature) size:', len(y_train))"
   ]
  },
  {
   "cell_type": "code",
   "execution_count": 15,
   "metadata": {},
   "outputs": [
    {
     "name": "stdout",
     "output_type": "stream",
     "text": [
      "The validation set (Descriptive Features) size: 30583\n"
     ]
    }
   ],
   "source": [
    "print('The validation set (Descriptive Features) size:', len(X_val))"
   ]
  },
  {
   "cell_type": "code",
   "execution_count": 16,
   "metadata": {},
   "outputs": [
    {
     "name": "stdout",
     "output_type": "stream",
     "text": [
      "The validation set (Target Feature) size: 30583\n"
     ]
    }
   ],
   "source": [
    "print('The validation set (Target Feature) size:', len(y_val))"
   ]
  },
  {
   "cell_type": "code",
   "execution_count": 17,
   "metadata": {},
   "outputs": [
    {
     "name": "stdout",
     "output_type": "stream",
     "text": [
      "The test set (Descriptive Features) size: 30583\n"
     ]
    }
   ],
   "source": [
    "print('The test set (Descriptive Features) size:', len(X_test))"
   ]
  },
  {
   "cell_type": "code",
   "execution_count": 18,
   "metadata": {},
   "outputs": [
    {
     "name": "stdout",
     "output_type": "stream",
     "text": [
      "The test set (Target Feature) size: 30583\n"
     ]
    }
   ],
   "source": [
    "print('The test set (Target Feature) size:', len(y_test))"
   ]
  },
  {
   "cell_type": "code",
   "execution_count": 19,
   "metadata": {},
   "outputs": [],
   "source": [
    "np.savez('Datasets/LearningSet.npz', \n",
    "         X_train=X_train, y_train=y_train, \n",
    "         X_val=X_val, y_val=y_val, \n",
    "         X_test=X_test, y_test=y_test)"
   ]
  }
 ],
 "metadata": {
  "colab": {
   "provenance": []
  },
  "kernelspec": {
   "display_name": "Python 3 (ipykernel)",
   "language": "python",
   "name": "python3"
  },
  "language_info": {
   "codemirror_mode": {
    "name": "ipython",
    "version": 3
   },
   "file_extension": ".py",
   "mimetype": "text/x-python",
   "name": "python",
   "nbconvert_exporter": "python",
   "pygments_lexer": "ipython3",
   "version": "3.11.7"
  }
 },
 "nbformat": 4,
 "nbformat_minor": 4
}
